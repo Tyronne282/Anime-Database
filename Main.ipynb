{
 "cells": [
  {
   "cell_type": "code",
   "id": "initial_id",
   "metadata": {
    "collapsed": true,
    "ExecuteTime": {
     "end_time": "2025-01-30T21:33:30.088933Z",
     "start_time": "2025-01-30T21:32:06.730677Z"
    }
   },
   "source": [
    "#Dependencies\n",
    "import csv\n",
    "import requests\n",
    "from bs4 import BeautifulSoup\n",
    "from urllib.parse import urljoin\n",
    "import time\n",
    "\n",
    "#Preparing CSV to write data to a database\n",
    "header = ['Title', 'Release Date', 'Anime Type', 'Episode Count', 'Genres', 'Summary']\n",
    "with open('AnimeDatabase.csv', 'w', newline='', encoding='utf-8') as f:\n",
    "    writer = csv.writer(f)\n",
    "    writer.writerow(header)\n",
    "\n",
    "#Website URL\n",
    "url = \"https://anidb.net/anime/?h=1&noalias=1&orderby.name=0.1&view=grid\"\n",
    "base_url = \"https://anidb.net\"\n",
    "header = {\"user-agent\": \"Mozilla/5.0(Windows NT 10.0; Win64; x64) AppleWebKit/537.36(KHTML, like Gecko) Chrome/99.0.4844.82 Safari/537.36)\"}\n",
    "response = requests.get(url, headers=header)\n",
    "soup = BeautifulSoup(response.content, 'html.parser')\n",
    "\n",
    "#Logic\n",
    "t = time.localtime()\n",
    "current_time = time.strftime(\"%H:%M:%S\", t)\n",
    "\n",
    "while True:\n",
    "    response = requests.get(url, headers=header)\n",
    "    soup = BeautifulSoup(response.content, 'html.parser')\n",
    "\n",
    "    animes= soup.find_all('div', class_='data')\n",
    "    pagination = soup.find('ul', class_='g_list jump')\n",
    "    next_page = pagination.select_one('li.next>a')\n",
    "\n",
    "\n",
    "    for anime in animes:\n",
    "        anime_title = anime.find('a', class_ = 'name-colored').text\n",
    "        release_date = anime.find('div', class_ = 'date').text\n",
    "\n",
    "        #get the type of anime and length\n",
    "        general = anime.find('div', class_ = \"general\").text\n",
    "        anime_type = general.split(\",\")[0],\n",
    "        ep_count = general.split(\",\")[-1].strip()\n",
    "\n",
    "        try:\n",
    "            #Some anime on site has no summary so try except\n",
    "            summary = anime.find('div', class_ = 'desc').text\n",
    "        except AttributeError:\n",
    "            summary = 'No summary available.'\n",
    "\n",
    "        #Create an array list for multiply genres\n",
    "        genres = []\n",
    "        for genre in anime.find_all('span', attrs = {'class' : 'tagname'}):\n",
    "            genres.append(genre.get_text())\n",
    "\n",
    "        data = [anime_title, release_date, anime_type, ep_count, genres, summary]\n",
    "        with open('AnimeDatabase.csv', 'a+', newline='', encoding='utf-8') as f:\n",
    "            writer = csv.writer(f)\n",
    "            writer.writerow(data)\n",
    "\n",
    "    time.sleep(10) # After each page is completed wait 10 seconds as to not alert site you're a bot\\n\",\n",
    "    if next_page:  #If \\\"NEXT\\\" button exist click next else end scrape \\n\",\n",
    "        next_url = next_page.get('href')  #Get \\\"Next page\\\" url from next button\\n\",\n",
    "        url = urljoin(base_url, next_url) # Join Join url to base url\\n\",\n",
    "        print(url)\n",
    "    else:\n",
    "        print(\"No More Pages To Scrape\")\n",
    "        t = time.localtime()\n",
    "        current_time = time.strftime(\"%H:%M:%S\", t)\n",
    "        print(current_time)\n",
    "        break\n",
    "\n",
    "\n",
    "\n",
    "\n"
   ],
   "outputs": [
    {
     "name": "stdout",
     "output_type": "stream",
     "text": [
      "https://anidb.net/anime/?h=1&noalias=1&orderby.name=0.1&page=1&view=grid\n",
      "https://anidb.net/anime/?h=1&noalias=1&orderby.name=0.1&page=2&view=grid\n",
      "https://anidb.net/anime/?h=1&noalias=1&orderby.name=0.1&page=3&view=grid\n",
      "https://anidb.net/anime/?h=1&noalias=1&orderby.name=0.1&page=4&view=grid\n",
      "https://anidb.net/anime/?h=1&noalias=1&orderby.name=0.1&page=5&view=grid\n",
      "https://anidb.net/anime/?h=1&noalias=1&orderby.name=0.1&page=6&view=grid\n",
      "https://anidb.net/anime/?h=1&noalias=1&orderby.name=0.1&page=7&view=grid\n"
     ]
    },
    {
     "ename": "KeyboardInterrupt",
     "evalue": "",
     "output_type": "error",
     "traceback": [
      "\u001B[1;31m---------------------------------------------------------------------------\u001B[0m",
      "\u001B[1;31mKeyboardInterrupt\u001B[0m                         Traceback (most recent call last)",
      "Cell \u001B[1;32mIn[37], line 59\u001B[0m\n\u001B[0;32m     56\u001B[0m         writer \u001B[38;5;241m=\u001B[39m csv\u001B[38;5;241m.\u001B[39mwriter(f)\n\u001B[0;32m     57\u001B[0m         writer\u001B[38;5;241m.\u001B[39mwriterow(data)\n\u001B[1;32m---> 59\u001B[0m \u001B[43mtime\u001B[49m\u001B[38;5;241;43m.\u001B[39;49m\u001B[43msleep\u001B[49m\u001B[43m(\u001B[49m\u001B[38;5;241;43m10\u001B[39;49m\u001B[43m)\u001B[49m \u001B[38;5;66;03m# After each page is completed wait 10 seconds as to not alert site you're a bot\\n\",\u001B[39;00m\n\u001B[0;32m     60\u001B[0m \u001B[38;5;28;01mif\u001B[39;00m next_page:  \u001B[38;5;66;03m#If \\\"NEXT\\\" button exist click next else end scrape \\n\",\u001B[39;00m\n\u001B[0;32m     61\u001B[0m     next_url \u001B[38;5;241m=\u001B[39m next_page\u001B[38;5;241m.\u001B[39mget(\u001B[38;5;124m'\u001B[39m\u001B[38;5;124mhref\u001B[39m\u001B[38;5;124m'\u001B[39m)  \u001B[38;5;66;03m#Get \\\"Next page\\\" url from next button\\n\",\u001B[39;00m\n",
      "\u001B[1;31mKeyboardInterrupt\u001B[0m: "
     ]
    }
   ],
   "execution_count": 37
  },
  {
   "metadata": {
    "ExecuteTime": {
     "end_time": "2025-01-30T18:47:15.961353Z",
     "start_time": "2025-01-30T18:47:15.957106Z"
    }
   },
   "cell_type": "code",
   "source": "",
   "id": "5d18d0810d80b2cd",
   "outputs": [],
   "execution_count": null
  },
  {
   "metadata": {
    "ExecuteTime": {
     "end_time": "2025-01-30T18:43:22.145229Z",
     "start_time": "2025-01-30T18:43:22.142604Z"
    }
   },
   "cell_type": "code",
   "source": "",
   "id": "5a4c11fb8d81a407",
   "outputs": [],
   "execution_count": null
  },
  {
   "metadata": {
    "ExecuteTime": {
     "end_time": "2025-01-30T16:39:33.061510Z",
     "start_time": "2025-01-30T16:39:33.059217Z"
    }
   },
   "cell_type": "code",
   "source": "",
   "id": "78e7c93deca38db",
   "outputs": [],
   "execution_count": null
  },
  {
   "metadata": {
    "ExecuteTime": {
     "end_time": "2025-01-30T16:39:39.932348Z",
     "start_time": "2025-01-30T16:39:39.929980Z"
    }
   },
   "cell_type": "code",
   "source": "",
   "id": "8bc172e04fd1010e",
   "outputs": [],
   "execution_count": null
  },
  {
   "metadata": {
    "ExecuteTime": {
     "end_time": "2025-01-30T16:39:41.221852Z",
     "start_time": "2025-01-30T16:39:41.219438Z"
    }
   },
   "cell_type": "code",
   "source": "",
   "id": "6e7ff7b8c1c33ce0",
   "outputs": [],
   "execution_count": null
  },
  {
   "metadata": {
    "ExecuteTime": {
     "end_time": "2025-01-30T16:39:57.177146Z",
     "start_time": "2025-01-30T16:39:57.174361Z"
    }
   },
   "cell_type": "code",
   "source": "",
   "id": "1f08c31456fe07a3",
   "outputs": [],
   "execution_count": null
  },
  {
   "metadata": {},
   "cell_type": "code",
   "outputs": [],
   "execution_count": null,
   "source": "",
   "id": "ab65a6c53e14fec8"
  }
 ],
 "metadata": {
  "kernelspec": {
   "display_name": "Python 3",
   "language": "python",
   "name": "python3"
  },
  "language_info": {
   "codemirror_mode": {
    "name": "ipython",
    "version": 2
   },
   "file_extension": ".py",
   "mimetype": "text/x-python",
   "name": "python",
   "nbconvert_exporter": "python",
   "pygments_lexer": "ipython2",
   "version": "2.7.6"
  }
 },
 "nbformat": 4,
 "nbformat_minor": 5
}
