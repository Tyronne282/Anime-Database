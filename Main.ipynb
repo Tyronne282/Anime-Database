{
 "cells": [
  {
   "cell_type": "code",
   "id": "initial_id",
   "metadata": {
    "collapsed": true,
    "ExecuteTime": {
     "end_time": "2025-01-30T16:04:26.218730Z",
     "start_time": "2025-01-30T16:03:54.700127Z"
    }
   },
   "source": [
    "#Dependencies\n",
    "import csv\n",
    "import requests\n",
    "from bs4 import BeautifulSoup\n",
    "from urllib.parse import urljoin\n",
    "import time\n",
    "\n",
    "#Preparing CSV to write data to a database\n",
    "header = ['Title', 'Release Date', 'Episode Count', 'Genres', 'Summary']\n",
    "with open('AnimeDatabase.csv', 'w', newline='', encoding='utf-8') as f:\n",
    "    writer = csv.writer(f)\n",
    "    writer.writerow(header)\n",
    "\n",
    "#Website URL\n",
    "url = \"https://anidb.net/anime/?h=1&noalias=1&orderby.name=0.1&view=grid\"\n",
    "base_url = \"https://anidb.net\"\n",
    "header = {\"user-agent\": \"Mozilla/5.0(Windows NT 10.0; Win64; x64) AppleWebKit/537.36(KHTML, like Gecko) Chrome/99.0.4844.82 Safari/537.36)\"}\n",
    "response = requests.get(url, headers=header)\n",
    "soup = BeautifulSoup(response.content, 'html.parser')\n",
    "\n",
    "#Logic\n",
    "t = time.localtime()\n",
    "current_time = time.strftime(\"%H:%M:%S\", t)\n",
    "\n",
    "while True:\n",
    "    response = requests.get(url, headers=header)\n",
    "    soup = BeautifulSoup(response.content, 'html.parser')\n",
    "\n",
    "    animes= soup.find_all('div', class_='data')\n",
    "    pagination = soup.find('ul', class_='g_list jump')\n",
    "    next_page = pagination.select_one('li.next>a')\n",
    "\n",
    "\n",
    "    for anime in animes:\n",
    "        title = anime.find('a', class_ = 'name-colored').text\n",
    "        try:\n",
    "            summary = anime.find('div', class_ = 'desc').text\n",
    "        except AttributeError:\n",
    "            summary = 'No summary available.'\n",
    "\n",
    "        general = anime.find('div', class_ = 'general').text\n",
    "        anime_type = general.split(\",\")[0]\n",
    "        ep_length = general.split(\",\")[-1].strip()\n",
    "        release_date = anime.find('div', class_ = 'date').text\n",
    "\n",
    "        #Create an array list for multiply genres\n",
    "        genres = []\n",
    "        for genre in anime.find_all('span', attrs = {'class' : 'tagname'}):\n",
    "            genres.append(genre.get_text())\n",
    "\n",
    "        data = [title, release_date, ep_length, genres, summary]\n",
    "        with open('AnimeDatabase.csv', 'a+', newline='', encoding='utf-8') as f:\n",
    "            writer = csv.writer(f)\n",
    "            writer.writerow(data)\n",
    "\n",
    "    time.sleep(10) # After each page is completed wait 10 seconds as to not alert site you're a bot\\n\",\n",
    "    if next_page:  #If \\\"NEXT\\\" button exist click next else end scrape \\n\",\n",
    "        next_url = next_page.get('href')  #Get \\\"Next page\\\" url from next button\\n\",\n",
    "        url = urljoin(base_url, next_url) # Join Join url to base url\\n\",\n",
    "        print(url)\n",
    "    else:\n",
    "        print(\"No More Pages To Scrape\")\n",
    "        t = time.localtime()\n",
    "        current_time = time.strftime(\"%H:%M:%S\", t)\n",
    "        print(current_time)\n",
    "        break\n",
    "\n",
    "\n",
    "\n",
    "\n"
   ],
   "outputs": [
    {
     "name": "stdout",
     "output_type": "stream",
     "text": [
      "https://anidb.net/anime/?h=1&noalias=1&orderby.name=0.1&page=1&view=grid\n",
      "https://anidb.net/anime/?h=1&noalias=1&orderby.name=0.1&page=2&view=grid\n"
     ]
    },
    {
     "ename": "KeyboardInterrupt",
     "evalue": "",
     "output_type": "error",
     "traceback": [
      "\u001B[1;31m---------------------------------------------------------------------------\u001B[0m",
      "\u001B[1;31mKeyboardInterrupt\u001B[0m                         Traceback (most recent call last)",
      "Cell \u001B[1;32mIn[29], line 56\u001B[0m\n\u001B[0;32m     53\u001B[0m         writer \u001B[38;5;241m=\u001B[39m csv\u001B[38;5;241m.\u001B[39mwriter(f)\n\u001B[0;32m     54\u001B[0m         writer\u001B[38;5;241m.\u001B[39mwriterow(data)\n\u001B[1;32m---> 56\u001B[0m \u001B[43mtime\u001B[49m\u001B[38;5;241;43m.\u001B[39;49m\u001B[43msleep\u001B[49m\u001B[43m(\u001B[49m\u001B[38;5;241;43m10\u001B[39;49m\u001B[43m)\u001B[49m \u001B[38;5;66;03m# After each page is completed wait 10 seconds as to not alert site you're a bot\\n\",\u001B[39;00m\n\u001B[0;32m     57\u001B[0m \u001B[38;5;28;01mif\u001B[39;00m next_page:  \u001B[38;5;66;03m#If \\\"NEXT\\\" button exist click next else end scrape \\n\",\u001B[39;00m\n\u001B[0;32m     58\u001B[0m     next_url \u001B[38;5;241m=\u001B[39m next_page\u001B[38;5;241m.\u001B[39mget(\u001B[38;5;124m'\u001B[39m\u001B[38;5;124mhref\u001B[39m\u001B[38;5;124m'\u001B[39m)  \u001B[38;5;66;03m#Get \\\"Next page\\\" url from next button\\n\",\u001B[39;00m\n",
      "\u001B[1;31mKeyboardInterrupt\u001B[0m: "
     ]
    }
   ],
   "execution_count": 29
  },
  {
   "metadata": {},
   "cell_type": "code",
   "outputs": [],
   "execution_count": null,
   "source": "",
   "id": "5d18d0810d80b2cd"
  },
  {
   "metadata": {},
   "cell_type": "code",
   "outputs": [],
   "execution_count": null,
   "source": "",
   "id": "5a4c11fb8d81a407"
  }
 ],
 "metadata": {
  "kernelspec": {
   "display_name": "Python 3",
   "language": "python",
   "name": "python3"
  },
  "language_info": {
   "codemirror_mode": {
    "name": "ipython",
    "version": 2
   },
   "file_extension": ".py",
   "mimetype": "text/x-python",
   "name": "python",
   "nbconvert_exporter": "python",
   "pygments_lexer": "ipython2",
   "version": "2.7.6"
  }
 },
 "nbformat": 4,
 "nbformat_minor": 5
}
